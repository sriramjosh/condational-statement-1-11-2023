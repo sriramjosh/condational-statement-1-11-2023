{
 "cells": [
  {
   "cell_type": "markdown",
   "id": "6f2567f4",
   "metadata": {},
   "source": [
    "#####   write a Python program to add 'ing' at the end of a given string (string length should be equal to or more than 3). If the given string already ends with 'ing' then add 'ly' instead.If the string length of the given string is less than 3, leave it unchanged\n"
   ]
  },
  {
   "cell_type": "code",
   "execution_count": 16,
   "id": "8d6d4dcd",
   "metadata": {},
   "outputs": [
    {
     "name": "stdout",
     "output_type": "stream",
     "text": [
      "Enter a string: 23\n",
      "Modified string: 23\n"
     ]
    }
   ],
   "source": [
    "input_string = input(\"Enter a string: \")\n",
    "\n",
    "# Check if the string length is less than 3\n",
    "if len(input_string) < 3:\n",
    "    result = input_string  # Leave it unchanged\n",
    "else:\n",
    "    # Check if the string already ends with 'ing'\n",
    "    if input_string.endswith('ing'):\n",
    "        result = input_string + 'ly'  # Add 'ly' if 'ing' is already at the end\n",
    "    else:\n",
    "        result = input_string + 'ing'  # Add 'ing' otherwise\n",
    "\n",
    "# Display the modified string\n",
    "print(\"Modified string:\", result)\n",
    "\n"
   ]
  },
  {
   "cell_type": "markdown",
   "id": "44e11fbb",
   "metadata": {},
   "source": [
    "###### Get the input string from the user\n",
    "input_string = input(\"Enter a string: \")\n",
    "\n",
    "# Check if the string length is less than 3\n",
    "if len(input_string) < 3:\n",
    "    result = input_string  # Leave it unchanged\n",
    "else:\n",
    "    # Check if the string already ends with 'ing'\n",
    "    if input_string.endswith('ing'):\n",
    "        result = input_string + 'ly'  # Add 'ly' if 'ing' is already at the end\n",
    "    else:\n",
    "        result = input_string + 'ing'  # Add 'ing' otherwise\n",
    "\n",
    "# Display the modified string\n",
    "print(\"Modified string:\", result)\n",
    "\n"
   ]
  },
  {
   "cell_type": "code",
   "execution_count": 3,
   "id": "6e401f6e",
   "metadata": {},
   "outputs": [
    {
     "name": "stdout",
     "output_type": "stream",
     "text": [
      "Type the first number: 32\n",
      "Type any of these operators (+, -, *, /, %, **): +\n",
      "Type the second number: 23\n",
      "Answer is 55.0\n"
     ]
    }
   ],
   "source": [
    "def perform_calculation(num1, operator, num2):\n",
    "    if operator == '+':\n",
    "        return num1 + num2\n",
    "    elif operator == '-':\n",
    "        return num1 - num2\n",
    "    elif operator == '*':\n",
    "        return num1 * num2\n",
    "    elif operator == '/':\n",
    "        if num2 == 0:\n",
    "            return \"Error: Division by zero is not allowed\"\n",
    "        else:\n",
    "            return num1 / num2\n",
    "    elif operator == '%':\n",
    "        return num1 % num2\n",
    "    elif operator == '**':\n",
    "        return num1 ** num2\n",
    "    else:\n",
    "        return \"Invalid operator\"\n",
    "\n",
    "# Get user input for the first number\n",
    "num1 = float(input(\"Type the first number: \"))\n",
    "\n",
    "# Get user input for the operator\n",
    "operator = input(\"Type any of these operators (+, -, *, /, %, **): \")\n",
    "\n",
    "# Get user input for the second number\n",
    "num2 = float(input(\"Type the second number: \"))\n",
    "\n",
    "# Call the function to perform the calculation\n",
    "result = perform_calculation(num1, operator, num2)\n",
    "\n",
    "# Display the result\n",
    "print(\"Answer is\", result)"
   ]
  },
  {
   "cell_type": "markdown",
   "id": "d6077b8c",
   "metadata": {},
   "source": [
    "#### Manoj Kumar has family and friends. Help him remind them who is who. Given a string with a name, return the relation of that person to Manoj Kumar.,\n",
    " Person Relation,\n"
   ]
  },
  {
   "cell_type": "code",
   "execution_count": 15,
   "id": "f089cca8",
   "metadata": {},
   "outputs": [
    {
     "name": "stdout",
     "output_type": "stream",
     "text": [
      "Enter a name: joshi\n",
      "The relation of joshi to Manoj Kumar is Unknown.\n"
     ]
    }
   ],
   "source": [
    "\n",
    "relations = { \"Manoj Kumar\": \"Self\",\n",
    "    \"John\": \"Friend\",\n",
    "    \"Alice\": \"Family\",\n",
    "    \"David\": \"Family\",\n",
    "    # Add more names and relations as needed\n",
    "}\n",
    "\n",
    "# Function to get the relation of a person to Manoj Kumar\n",
    "def get_relation(name):\n",
    "    if name in relations:\n",
    "        return relations[name]\n",
    "    else:\n",
    "        return \"Unknown\"  \n",
    "\n",
    "# Get user input for the name\n",
    "name = input(\"Enter a name: \")\n",
    "\n",
    "# Call the function to get the relation\n",
    "relation = get_relation(name)\n",
    "\n",
    "# Display the relation\n",
    "print(f\"The relation of {name} to Manoj Kumar is {relation}.\")\n"
   ]
  },
  {
   "cell_type": "markdown",
   "id": "96c07fd1",
   "metadata": {},
   "source": [
    "#### Write a python program that takes in a word and determines whether or not it is plural. A plural word is one that ends with “s”\n"
   ]
  },
  {
   "cell_type": "code",
   "execution_count": 9,
   "id": "13357510",
   "metadata": {},
   "outputs": [
    {
     "name": "stdout",
     "output_type": "stream",
     "text": [
      "Enter a word:key\n",
      "key is not a plural word.\n"
     ]
    }
   ],
   "source": [
    "def is_plural(word):\n",
    "    return word.endswith(\"s\")\n",
    "word = input(\"Enter a word:\")\n",
    "if is_plural(word):\n",
    "    print(f\"{word} is a plural word.\")\n",
    "else:\n",
    "    print(f\"{word} is not a plural word.\")\n"
   ]
  },
  {
   "cell_type": "markdown",
   "id": "1df3a8e9",
   "metadata": {},
   "source": [
    "#### A company decided to give a bonus of 5% to employees if his/her year of service is more than 5 years.Ask user for their salary and year of service and print the net bonus amount.\n"
   ]
  },
  {
   "cell_type": "code",
   "execution_count": 8,
   "id": "ae1365b6",
   "metadata": {},
   "outputs": [
    {
     "name": "stdout",
     "output_type": "stream",
     "text": [
      "Enter the employee's salary: 34000\n",
      "Enter the employee's years of service: 234\n",
      "The net bonus amount is: $1700.00\n"
     ]
    }
   ],
   "source": [
    "# Get user input for the salary and years of service\n",
    "salary = float(input(\"Enter the employee's salary: \"))\n",
    "years_of_service = int(input(\"Enter the employee's years of service: \"))\n",
    "\n",
    "# Check if the employee's years of service is more than 5 years\n",
    "if years_of_service > 5:\n",
    "    # Calculate the bonus as 5% of the salary\n",
    "    bonus = 0.05 * salary\n",
    "    # Print the net bonus amount\n",
    "    print(f\"The net bonus amount is: ${bonus:.2f}\")\n",
    "else:\n",
    "    print(\"No bonus is given for less than 5 years of service.\")\n"
   ]
  },
  {
   "cell_type": "markdown",
   "id": "bf1c753d",
   "metadata": {},
   "source": [
    "#### Take values of length and breadth of a rectangle from the user and check if it is square or not"
   ]
  },
  {
   "cell_type": "code",
   "execution_count": 11,
   "id": "0b751816",
   "metadata": {},
   "outputs": [
    {
     "name": "stdout",
     "output_type": "stream",
     "text": [
      "Enter the length of the rectangle: 12\n",
      "Enter the breadth of the rectangle: 34\n",
      "It's a rectangle.\n"
     ]
    }
   ],
   "source": [
    "# Get user input for the length and breadth of the rectangle\n",
    "length = float(input(\"Enter the length of the rectangle: \"))\n",
    "breadth = float(input(\"Enter the breadth of the rectangle: \"))\n",
    "\n",
    "# Check if it's a square or a rectangle\n",
    "if length == breadth:\n",
    "    # If the length and breadth are equal, it's a square\n",
    "    print(\"It's a square.\")\n",
    "else:\n",
    "    # If the length and breadth are different, it's a rectangle\n",
    "    print(\"It's a rectangle.\")\n"
   ]
  },
  {
   "cell_type": "markdown",
   "id": "285471a7",
   "metadata": {},
   "source": [
    "#### Accept any city from the user and display the momentum of the city \n",
    "Hyderabad  : “charminar”\n",
    "“Delhi”         : “red fort\n",
    "“Agra           : Taj mahal\n",
    "If the city name is not given correctly, give him a warning message.\n"
   ]
  },
  {
   "cell_type": "code",
   "execution_count": 12,
   "id": "6d59d525",
   "metadata": {},
   "outputs": [
    {
     "name": "stdout",
     "output_type": "stream",
     "text": [
      "Enter a city: hyderbad\n",
      "City not found or monument information is not available for the entered city.\n"
     ]
    }
   ],
   "source": [
    "city_monument = {\"Hyderabad\": \"Charminar\",\n",
    "    \"Delhi\": \"Red Fort\",\n",
    "    \"Agra\": \"Taj Mahal\",}\n",
    "# Get user input for the city\n",
    "city = input(\"Enter a city: \")\n",
    "\n",
    "# Check if the city is in the dictionary and display the monument\n",
    "if city in city_monument:\n",
    "    monument = city_monument[city]\n",
    "    print(f\"The monument of {city} is {monument}.\")\n",
    "else:\n",
    "    # If the city is not in the dictionary, display a warning message\n",
    "    print(\"City not found or monument information is not available for the entered city.\")\n"
   ]
  },
  {
   "cell_type": "markdown",
   "id": "adaa5fa1",
   "metadata": {},
   "source": [
    "##### Write a program to check whether a person is eligible for voting or not  (voting age>=18).\n"
   ]
  },
  {
   "cell_type": "code",
   "execution_count": 13,
   "id": "06ef27a0",
   "metadata": {},
   "outputs": [
    {
     "name": "stdout",
     "output_type": "stream",
     "text": [
      "Enter your age: 29\n",
      "You are eligible to vote.\n"
     ]
    }
   ],
   "source": [
    "age = int(input(\"Enter your age: \"))\n",
    "\n",
    "# Check if the person is eligible for voting\n",
    "if age >= 18:\n",
    "    print(\"You are eligible to vote.\")\n",
    "else:\n",
    "    print(\"You are not eligible to vote.\")\n"
   ]
  },
  {
   "cell_type": "markdown",
   "id": "1a8655a2",
   "metadata": {},
   "source": [
    "##### Accept three sides of the triangle and check whether the triangle is possible or not.(Triangle is possible only when the sum of any two sides is greater than 3 rd side).\n"
   ]
  },
  {
   "cell_type": "code",
   "execution_count": 14,
   "id": "bb609a03",
   "metadata": {},
   "outputs": [
    {
     "name": "stdout",
     "output_type": "stream",
     "text": [
      "Enter the length of the first side: 12\n",
      "Enter the length of the second side: 23\n",
      "Enter the length of the third side: 23\n",
      "It's possible to form a triangle with these side lengths.\n"
     ]
    }
   ],
   "source": [
    "side1 = float(input(\"Enter the length of the first side: \"))\n",
    "side2 = float(input(\"Enter the length of the second side: \"))\n",
    "side3 = float(input(\"Enter the length of the third side: \"))\n",
    "\n",
    "if (side1 + side2 > side3) and (side1 + side3 > side2) and (side2 + side3 > side1):\n",
    "    print(\"It's possible to form a triangle with these side lengths.\")\n",
    "else:\n",
    "    print(\"It's not possible to form a triangle with these side lengths.\")\n"
   ]
  },
  {
   "cell_type": "code",
   "execution_count": null,
   "id": "345971cc",
   "metadata": {},
   "outputs": [],
   "source": []
  }
 ],
 "metadata": {
  "kernelspec": {
   "display_name": "Python 3 (ipykernel)",
   "language": "python",
   "name": "python3"
  },
  "language_info": {
   "codemirror_mode": {
    "name": "ipython",
    "version": 3
   },
   "file_extension": ".py",
   "mimetype": "text/x-python",
   "name": "python",
   "nbconvert_exporter": "python",
   "pygments_lexer": "ipython3",
   "version": "3.11.5"
  }
 },
 "nbformat": 4,
 "nbformat_minor": 5
}
